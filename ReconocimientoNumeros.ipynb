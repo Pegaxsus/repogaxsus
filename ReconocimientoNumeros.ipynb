{
  "nbformat": 4,
  "nbformat_minor": 0,
  "metadata": {
    "colab": {
      "provenance": [],
      "authorship_tag": "ABX9TyMoxY3eVCyySWCMJ8+7Qsea",
      "include_colab_link": true
    },
    "kernelspec": {
      "name": "python3",
      "display_name": "Python 3"
    },
    "language_info": {
      "name": "python"
    },
    "widgets": {
      "application/vnd.jupyter.widget-state+json": {
        "3d6fa4433da94374a48554e8cac498f0": {
          "model_module": "@jupyter-widgets/controls",
          "model_name": "HBoxModel",
          "model_module_version": "1.5.0",
          "state": {
            "_dom_classes": [],
            "_model_module": "@jupyter-widgets/controls",
            "_model_module_version": "1.5.0",
            "_model_name": "HBoxModel",
            "_view_count": null,
            "_view_module": "@jupyter-widgets/controls",
            "_view_module_version": "1.5.0",
            "_view_name": "HBoxView",
            "box_style": "",
            "children": [
              "IPY_MODEL_7699d4e46a4f45c085b01bc90de00188",
              "IPY_MODEL_f8f6d54cdb0e4c4b81680730f4492e39",
              "IPY_MODEL_990f819f75074118bf959813484b1830"
            ],
            "layout": "IPY_MODEL_3433af175cc04ed0a939869bb2535330"
          }
        },
        "7699d4e46a4f45c085b01bc90de00188": {
          "model_module": "@jupyter-widgets/controls",
          "model_name": "HTMLModel",
          "model_module_version": "1.5.0",
          "state": {
            "_dom_classes": [],
            "_model_module": "@jupyter-widgets/controls",
            "_model_module_version": "1.5.0",
            "_model_name": "HTMLModel",
            "_view_count": null,
            "_view_module": "@jupyter-widgets/controls",
            "_view_module_version": "1.5.0",
            "_view_name": "HTMLView",
            "description": "",
            "description_tooltip": null,
            "layout": "IPY_MODEL_e35a9b97381c4a67803979744b232e16",
            "placeholder": "​",
            "style": "IPY_MODEL_d53543fe86b849e7a6cabc4ef4c9518b",
            "value": "Dl Completed...: 100%"
          }
        },
        "f8f6d54cdb0e4c4b81680730f4492e39": {
          "model_module": "@jupyter-widgets/controls",
          "model_name": "FloatProgressModel",
          "model_module_version": "1.5.0",
          "state": {
            "_dom_classes": [],
            "_model_module": "@jupyter-widgets/controls",
            "_model_module_version": "1.5.0",
            "_model_name": "FloatProgressModel",
            "_view_count": null,
            "_view_module": "@jupyter-widgets/controls",
            "_view_module_version": "1.5.0",
            "_view_name": "ProgressView",
            "bar_style": "success",
            "description": "",
            "description_tooltip": null,
            "layout": "IPY_MODEL_1a4e8b023b764273bef519420547b3ed",
            "max": 5,
            "min": 0,
            "orientation": "horizontal",
            "style": "IPY_MODEL_99be2d5392754574b59a48eb000f0124",
            "value": 5
          }
        },
        "990f819f75074118bf959813484b1830": {
          "model_module": "@jupyter-widgets/controls",
          "model_name": "HTMLModel",
          "model_module_version": "1.5.0",
          "state": {
            "_dom_classes": [],
            "_model_module": "@jupyter-widgets/controls",
            "_model_module_version": "1.5.0",
            "_model_name": "HTMLModel",
            "_view_count": null,
            "_view_module": "@jupyter-widgets/controls",
            "_view_module_version": "1.5.0",
            "_view_name": "HTMLView",
            "description": "",
            "description_tooltip": null,
            "layout": "IPY_MODEL_f2279526f1aa4739b39c2d34a2c2ec93",
            "placeholder": "​",
            "style": "IPY_MODEL_c81db31ced28486d847e00b8931dad16",
            "value": " 5/5 [00:00&lt;00:00, 12.44 file/s]"
          }
        },
        "3433af175cc04ed0a939869bb2535330": {
          "model_module": "@jupyter-widgets/base",
          "model_name": "LayoutModel",
          "model_module_version": "1.2.0",
          "state": {
            "_model_module": "@jupyter-widgets/base",
            "_model_module_version": "1.2.0",
            "_model_name": "LayoutModel",
            "_view_count": null,
            "_view_module": "@jupyter-widgets/base",
            "_view_module_version": "1.2.0",
            "_view_name": "LayoutView",
            "align_content": null,
            "align_items": null,
            "align_self": null,
            "border": null,
            "bottom": null,
            "display": null,
            "flex": null,
            "flex_flow": null,
            "grid_area": null,
            "grid_auto_columns": null,
            "grid_auto_flow": null,
            "grid_auto_rows": null,
            "grid_column": null,
            "grid_gap": null,
            "grid_row": null,
            "grid_template_areas": null,
            "grid_template_columns": null,
            "grid_template_rows": null,
            "height": null,
            "justify_content": null,
            "justify_items": null,
            "left": null,
            "margin": null,
            "max_height": null,
            "max_width": null,
            "min_height": null,
            "min_width": null,
            "object_fit": null,
            "object_position": null,
            "order": null,
            "overflow": null,
            "overflow_x": null,
            "overflow_y": null,
            "padding": null,
            "right": null,
            "top": null,
            "visibility": null,
            "width": null
          }
        },
        "e35a9b97381c4a67803979744b232e16": {
          "model_module": "@jupyter-widgets/base",
          "model_name": "LayoutModel",
          "model_module_version": "1.2.0",
          "state": {
            "_model_module": "@jupyter-widgets/base",
            "_model_module_version": "1.2.0",
            "_model_name": "LayoutModel",
            "_view_count": null,
            "_view_module": "@jupyter-widgets/base",
            "_view_module_version": "1.2.0",
            "_view_name": "LayoutView",
            "align_content": null,
            "align_items": null,
            "align_self": null,
            "border": null,
            "bottom": null,
            "display": null,
            "flex": null,
            "flex_flow": null,
            "grid_area": null,
            "grid_auto_columns": null,
            "grid_auto_flow": null,
            "grid_auto_rows": null,
            "grid_column": null,
            "grid_gap": null,
            "grid_row": null,
            "grid_template_areas": null,
            "grid_template_columns": null,
            "grid_template_rows": null,
            "height": null,
            "justify_content": null,
            "justify_items": null,
            "left": null,
            "margin": null,
            "max_height": null,
            "max_width": null,
            "min_height": null,
            "min_width": null,
            "object_fit": null,
            "object_position": null,
            "order": null,
            "overflow": null,
            "overflow_x": null,
            "overflow_y": null,
            "padding": null,
            "right": null,
            "top": null,
            "visibility": null,
            "width": null
          }
        },
        "d53543fe86b849e7a6cabc4ef4c9518b": {
          "model_module": "@jupyter-widgets/controls",
          "model_name": "DescriptionStyleModel",
          "model_module_version": "1.5.0",
          "state": {
            "_model_module": "@jupyter-widgets/controls",
            "_model_module_version": "1.5.0",
            "_model_name": "DescriptionStyleModel",
            "_view_count": null,
            "_view_module": "@jupyter-widgets/base",
            "_view_module_version": "1.2.0",
            "_view_name": "StyleView",
            "description_width": ""
          }
        },
        "1a4e8b023b764273bef519420547b3ed": {
          "model_module": "@jupyter-widgets/base",
          "model_name": "LayoutModel",
          "model_module_version": "1.2.0",
          "state": {
            "_model_module": "@jupyter-widgets/base",
            "_model_module_version": "1.2.0",
            "_model_name": "LayoutModel",
            "_view_count": null,
            "_view_module": "@jupyter-widgets/base",
            "_view_module_version": "1.2.0",
            "_view_name": "LayoutView",
            "align_content": null,
            "align_items": null,
            "align_self": null,
            "border": null,
            "bottom": null,
            "display": null,
            "flex": null,
            "flex_flow": null,
            "grid_area": null,
            "grid_auto_columns": null,
            "grid_auto_flow": null,
            "grid_auto_rows": null,
            "grid_column": null,
            "grid_gap": null,
            "grid_row": null,
            "grid_template_areas": null,
            "grid_template_columns": null,
            "grid_template_rows": null,
            "height": null,
            "justify_content": null,
            "justify_items": null,
            "left": null,
            "margin": null,
            "max_height": null,
            "max_width": null,
            "min_height": null,
            "min_width": null,
            "object_fit": null,
            "object_position": null,
            "order": null,
            "overflow": null,
            "overflow_x": null,
            "overflow_y": null,
            "padding": null,
            "right": null,
            "top": null,
            "visibility": null,
            "width": null
          }
        },
        "99be2d5392754574b59a48eb000f0124": {
          "model_module": "@jupyter-widgets/controls",
          "model_name": "ProgressStyleModel",
          "model_module_version": "1.5.0",
          "state": {
            "_model_module": "@jupyter-widgets/controls",
            "_model_module_version": "1.5.0",
            "_model_name": "ProgressStyleModel",
            "_view_count": null,
            "_view_module": "@jupyter-widgets/base",
            "_view_module_version": "1.2.0",
            "_view_name": "StyleView",
            "bar_color": null,
            "description_width": ""
          }
        },
        "f2279526f1aa4739b39c2d34a2c2ec93": {
          "model_module": "@jupyter-widgets/base",
          "model_name": "LayoutModel",
          "model_module_version": "1.2.0",
          "state": {
            "_model_module": "@jupyter-widgets/base",
            "_model_module_version": "1.2.0",
            "_model_name": "LayoutModel",
            "_view_count": null,
            "_view_module": "@jupyter-widgets/base",
            "_view_module_version": "1.2.0",
            "_view_name": "LayoutView",
            "align_content": null,
            "align_items": null,
            "align_self": null,
            "border": null,
            "bottom": null,
            "display": null,
            "flex": null,
            "flex_flow": null,
            "grid_area": null,
            "grid_auto_columns": null,
            "grid_auto_flow": null,
            "grid_auto_rows": null,
            "grid_column": null,
            "grid_gap": null,
            "grid_row": null,
            "grid_template_areas": null,
            "grid_template_columns": null,
            "grid_template_rows": null,
            "height": null,
            "justify_content": null,
            "justify_items": null,
            "left": null,
            "margin": null,
            "max_height": null,
            "max_width": null,
            "min_height": null,
            "min_width": null,
            "object_fit": null,
            "object_position": null,
            "order": null,
            "overflow": null,
            "overflow_x": null,
            "overflow_y": null,
            "padding": null,
            "right": null,
            "top": null,
            "visibility": null,
            "width": null
          }
        },
        "c81db31ced28486d847e00b8931dad16": {
          "model_module": "@jupyter-widgets/controls",
          "model_name": "DescriptionStyleModel",
          "model_module_version": "1.5.0",
          "state": {
            "_model_module": "@jupyter-widgets/controls",
            "_model_module_version": "1.5.0",
            "_model_name": "DescriptionStyleModel",
            "_view_count": null,
            "_view_module": "@jupyter-widgets/base",
            "_view_module_version": "1.2.0",
            "_view_name": "StyleView",
            "description_width": ""
          }
        }
      }
    }
  },
  "cells": [
    {
      "cell_type": "markdown",
      "metadata": {
        "id": "view-in-github",
        "colab_type": "text"
      },
      "source": [
        "<a href=\"https://colab.research.google.com/github/Pegaxsus/repogaxsus/blob/master/ReconocimientoNumeros.ipynb\" target=\"_parent\"><img src=\"https://colab.research.google.com/assets/colab-badge.svg\" alt=\"Open In Colab\"/></a>"
      ]
    },
    {
      "cell_type": "code",
      "execution_count": 2,
      "metadata": {
        "id": "t83vI5sKhTt6"
      },
      "outputs": [],
      "source": [
        "from __future__ import absolute_import, division, print_function, unicode_literals\n",
        "\n",
        "import tensorflow as tf\n",
        "import tensorflow_datasets as tfds\n",
        "\n",
        "import math\n",
        "import numpy as np\n",
        "import matplotlib.pyplot as plt\n",
        "import logging"
      ]
    },
    {
      "cell_type": "code",
      "source": [
        "logger = tf.get_logger()\n",
        "logger.setLevel(logging.ERROR)"
      ],
      "metadata": {
        "id": "X9VSaGl0h_ie"
      },
      "execution_count": 4,
      "outputs": []
    },
    {
      "cell_type": "code",
      "source": [
        "dataset, metadata = tfds.load('mnist', as_supervised=True, with_info=True) #mnist es un dataset\n",
        "train_dataset, test_dataset =dataset['train'], dataset['test']"
      ],
      "metadata": {
        "colab": {
          "base_uri": "https://localhost:8080/",
          "height": 84,
          "referenced_widgets": [
            "3d6fa4433da94374a48554e8cac498f0",
            "7699d4e46a4f45c085b01bc90de00188",
            "f8f6d54cdb0e4c4b81680730f4492e39",
            "990f819f75074118bf959813484b1830",
            "3433af175cc04ed0a939869bb2535330",
            "e35a9b97381c4a67803979744b232e16",
            "d53543fe86b849e7a6cabc4ef4c9518b",
            "1a4e8b023b764273bef519420547b3ed",
            "99be2d5392754574b59a48eb000f0124",
            "f2279526f1aa4739b39c2d34a2c2ec93",
            "c81db31ced28486d847e00b8931dad16"
          ]
        },
        "id": "DtneTihLh_fe",
        "outputId": "2e573fd1-8ec0-49a0-ca53-8d173438f882"
      },
      "execution_count": 6,
      "outputs": [
        {
          "output_type": "stream",
          "name": "stdout",
          "text": [
            "Downloading and preparing dataset 11.06 MiB (download: 11.06 MiB, generated: 21.00 MiB, total: 32.06 MiB) to /root/tensorflow_datasets/mnist/3.0.1...\n"
          ]
        },
        {
          "output_type": "display_data",
          "data": {
            "text/plain": [
              "Dl Completed...:   0%|          | 0/5 [00:00<?, ? file/s]"
            ],
            "application/vnd.jupyter.widget-view+json": {
              "version_major": 2,
              "version_minor": 0,
              "model_id": "3d6fa4433da94374a48554e8cac498f0"
            }
          },
          "metadata": {}
        },
        {
          "output_type": "stream",
          "name": "stdout",
          "text": [
            "Dataset mnist downloaded and prepared to /root/tensorflow_datasets/mnist/3.0.1. Subsequent calls will reuse this data.\n"
          ]
        }
      ]
    },
    {
      "cell_type": "code",
      "source": [
        "class_names =['Cero','Uno', 'Dos', 'Tres', 'Cuatro', 'Cinco', 'Seis', 'Siete', 'Ocho', 'Nueve']\n",
        "\n",
        "num_train_examples = metadata.splits['train'].num_examples\n",
        "num_test_examples = metadata.splits['test'].num_examples"
      ],
      "metadata": {
        "id": "KJOW4rmniJIE"
      },
      "execution_count": 8,
      "outputs": []
    },
    {
      "cell_type": "code",
      "source": [
        "#Normalizar: Numeros de 0 a 255, que sean de 0 a 1\n",
        "def normalize(images, labels):\n",
        "    images = tf.cast(images, tf.float32)\n",
        "    images /= 255\n",
        "    return images, labels\n",
        "\n",
        "train_dataset = train_dataset.map(normalize)\n",
        "test_dataset = test_dataset.map(normalize)"
      ],
      "metadata": {
        "id": "xvSpr8UJjlHp"
      },
      "execution_count": 9,
      "outputs": []
    },
    {
      "cell_type": "code",
      "source": [
        "#Estructura de la red\n",
        "model = tf.keras.Sequential([\n",
        "\ttf.keras.layers.Flatten(input_shape=(28,28,1)),       #capa inicial 784 neuronas, 28x28\n",
        "\ttf.keras.layers.Dense(64, activation=tf.nn.relu),     # 64 neuronas\n",
        "\ttf.keras.layers.Dense(64, activation=tf.nn.relu),     # 64 neuronas\n",
        "\ttf.keras.layers.Dense(10, activation=tf.nn.softmax)   #para clasificacion, capa final\n",
        "])\n"
      ],
      "metadata": {
        "id": "K3KFgDmujqAj"
      },
      "execution_count": 10,
      "outputs": []
    },
    {
      "cell_type": "code",
      "source": [
        "#compilación\n",
        "model.compile(\n",
        "\toptimizer='adam',\n",
        "\tloss='sparse_categorical_crossentropy',\n",
        "\tmetrics=['accuracy']\n",
        ")"
      ],
      "metadata": {
        "id": "6d4F9rvvkIK8"
      },
      "execution_count": 11,
      "outputs": []
    },
    {
      "cell_type": "code",
      "source": [
        "#Aprendizaje por lotes de 32 cada lote\n",
        "BATCHSIZE = 32 #tamaño lote\n",
        "train_dataset = train_dataset.repeat().shuffle(num_train_examples).batch(BATCHSIZE) #orden aleatorio de datos de entrenamiento + #tamaño lote\n",
        "test_dataset = test_dataset.batch(BATCHSIZE) #tamaño lote\n",
        "\n",
        "#Realizar el aprendizaje\n",
        "model.fit(\n",
        "\ttrain_dataset, epochs=5, #vueltas\n",
        "\tsteps_per_epoch=math.ceil(num_train_examples/BATCHSIZE) #No sera necesario pronto\n",
        ")"
      ],
      "metadata": {
        "colab": {
          "base_uri": "https://localhost:8080/"
        },
        "id": "57fcIvzlkPnw",
        "outputId": "2893ff6e-17d8-4ec1-a3c5-47b67535a1dc"
      },
      "execution_count": 12,
      "outputs": [
        {
          "output_type": "stream",
          "name": "stdout",
          "text": [
            "Epoch 1/5\n",
            "1875/1875 [==============================] - 14s 5ms/step - loss: 0.2767 - accuracy: 0.9197\n",
            "Epoch 2/5\n",
            "1875/1875 [==============================] - 8s 4ms/step - loss: 0.1242 - accuracy: 0.9629\n",
            "Epoch 3/5\n",
            "1875/1875 [==============================] - 8s 4ms/step - loss: 0.0900 - accuracy: 0.9727\n",
            "Epoch 4/5\n",
            "1875/1875 [==============================] - 9s 5ms/step - loss: 0.0730 - accuracy: 0.9779\n",
            "Epoch 5/5\n",
            "1875/1875 [==============================] - 9s 5ms/step - loss: 0.0574 - accuracy: 0.9822\n"
          ]
        },
        {
          "output_type": "execute_result",
          "data": {
            "text/plain": [
              "<keras.callbacks.History at 0x7f551acb3880>"
            ]
          },
          "metadata": {},
          "execution_count": 12
        }
      ]
    },
    {
      "cell_type": "code",
      "source": [
        "#Evaluación de nuestro modelo ya entrenado, contra el dataset de pruebas\n",
        "test_loss, test_accuracy = model.evaluate(\n",
        "\ttest_dataset, steps=math.ceil(num_test_examples/32)\n",
        ")"
      ],
      "metadata": {
        "colab": {
          "base_uri": "https://localhost:8080/"
        },
        "id": "O9rHYgAAk9XO",
        "outputId": "4da30d6a-fd28-4e16-f704-f6cd7b24bce0"
      },
      "execution_count": 13,
      "outputs": [
        {
          "output_type": "stream",
          "name": "stdout",
          "text": [
            "313/313 [==============================] - 2s 4ms/step - loss: 0.0878 - accuracy: 0.9749\n"
          ]
        }
      ]
    },
    {
      "cell_type": "code",
      "source": [
        "#calidad de las pruebas\n",
        "\n",
        "print(\"Resultado en las pruebas: \", test_accuracy)\n",
        "\n",
        "for test_images, test_labels in test_dataset.take(1):\n",
        "\ttest_images = test_images.numpy()\n",
        "\ttest_labels = test_labels.numpy()\n",
        "\tpredictions = model.predict(test_images)\n",
        "\n",
        "def plot_image(i, predictions_array, true_labels, images):\n",
        "\tpredictions_array, true_label, img = predictions_array[i], true_labels[i], images[i]\n",
        "\tplt.grid(False)\n",
        "\tplt.xticks([])\n",
        "\tplt.yticks([])\n",
        "\n",
        "\tplt.imshow(img[...,0], cmap=plt.cm.binary)\n",
        "\n",
        "\tpredicted_label = np.argmax(predictions_array)\n",
        "\tif predicted_label == true_label:\n",
        "\t\tcolor = 'blue'\n",
        "\telse:\n",
        "\t\tcolor = 'red'\n",
        "\n",
        "\tplt.xlabel(\"Prediccion: {}\".format(class_names[predicted_label]), color=color)\n",
        "\n",
        "def plot_value_array(i, predictions_array, true_label):\n",
        "\tpredictions_array, true_label = predictions_array[i], true_label[i]\n",
        "\tplt.grid(False)\n",
        "\tplt.xticks([])\n",
        "\tplt.yticks([])\n",
        "\tthisplot = plt.bar(range(10), predictions_array, color=\"#888888\")\n",
        "\tplt.ylim([0,1])\n",
        "\tpredicted_label = np.argmax(predictions_array)\n",
        "\n",
        "\tthisplot[predicted_label].set_color('red')\n",
        "\tthisplot[true_label].set_color('blue')\n",
        "\n",
        "numrows=5\n",
        "numcols=3\n",
        "numimages = numrows*numcols\n",
        "\n",
        "plt.figure(figsize=(2*2*numcols, 2*numrows))\n",
        "for i in range(numimages):\n",
        "\tplt.subplot(numrows, 2*numcols, 2*i+1)\n",
        "\tplot_image(i, predictions, test_labels, test_images)\n",
        "\tplt.subplot(numrows, 2*numcols, 2*i+2)\n",
        "\tplot_value_array(i, predictions, test_labels)\n",
        "\n",
        "plt.show()"
      ],
      "metadata": {
        "colab": {
          "base_uri": "https://localhost:8080/",
          "height": 624
        },
        "id": "JQSeBME1oSw8",
        "outputId": "ea3f3d81-b380-45d7-9505-dde3bb550abc"
      },
      "execution_count": 14,
      "outputs": [
        {
          "output_type": "stream",
          "name": "stdout",
          "text": [
            "Resultado en las pruebas:  0.9749000072479248\n",
            "1/1 [==============================] - 0s 111ms/step\n"
          ]
        },
        {
          "output_type": "display_data",
          "data": {
            "text/plain": [
              "<Figure size 864x720 with 30 Axes>"
            ],
            "image/png": "[encoded data removed]"
          },
          "metadata": {}
        }
      ]
    }
  ]
}