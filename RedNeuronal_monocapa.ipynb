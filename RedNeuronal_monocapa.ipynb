{
  "nbformat": 4,
  "nbformat_minor": 0,
  "metadata": {
    "colab": {
      "provenance": [],
      "authorship_tag": "ABX9TyNCGnoPDHKShGxUUIz/hF88",
      "include_colab_link": true
    },
    "kernelspec": {
      "name": "python3",
      "display_name": "Python 3"
    },
    "language_info": {
      "name": "python"
    }
  },
  "cells": [
    {
      "cell_type": "markdown",
      "metadata": {
        "id": "view-in-github",
        "colab_type": "text"
      },
      "source": [
        "<a href=\"https://colab.research.google.com/github/Pegaxsus/repogaxsus/blob/master/RedNeuronal_monocapa.ipynb\" target=\"_parent\"><img src=\"https://colab.research.google.com/assets/colab-badge.svg\" alt=\"Open In Colab\"/></a>"
      ]
    },
    {
      "cell_type": "code",
      "execution_count": 1,
      "metadata": {
        "id": "01AL5ZassBZQ"
      },
      "outputs": [],
      "source": [
        "import tensorflow as tf\n",
        "import numpy as np "
      ]
    },
    {
      "cell_type": "code",
      "source": [
        "celsius = np.array([-40, -10, 0, 8, 15, 22, 38], dtype=float) #array de entrada\n",
        "fahrenheit = np.array([-40, 14, 32, 46, 58, 72, 100], dtype=float) #array de salida correcto"
      ],
      "metadata": {
        "id": "5bi4hzj3tVJQ"
      },
      "execution_count": 2,
      "outputs": []
    },
    {
      "cell_type": "code",
      "source": [
        "capa = tf.keras.layers.Dense(units=1, input_shape=[1]) #cantidad de conexiones\n",
        "modelo = tf.keras.Sequential([capa])"
      ],
      "metadata": {
        "id": "z7JW5if6uMrg"
      },
      "execution_count": 3,
      "outputs": []
    },
    {
      "cell_type": "code",
      "source": [
        "modelo.compile( #compilar modelo \n",
        "    optimizer=tf.keras.optimizers.Adam(0.1), #selecionamos optimizador y \"fineza\"\n",
        "    loss='mean_squared_error' # definimos qué es un error\n",
        ")"
      ],
      "metadata": {
        "id": "yA8T80vTwDlk"
      },
      "execution_count": 8,
      "outputs": []
    },
    {
      "cell_type": "code",
      "source": [
        "print(\"Comienza entrenamiento...\"); #1000 vueltas de entreno\n",
        "historial = modelo.fit(celsius, fahrenheit, epochs=1000, verbose=False)\n",
        "print(\"Modelo entrenado.\")\n"
      ],
      "metadata": {
        "colab": {
          "base_uri": "https://localhost:8080/"
        },
        "id": "H4VM8xK_wDY-",
        "outputId": "952225aa-52e5-4d4e-c637-bf82cd2a815a"
      },
      "execution_count": 9,
      "outputs": [
        {
          "output_type": "stream",
          "name": "stdout",
          "text": [
            "Comienza entrenamiento...\n",
            "Modelo entrenado.\n"
          ]
        }
      ]
    },
    {
      "cell_type": "code",
      "source": [
        "import matplotlib.pyplot as plt \n",
        "plt.xlabel(\"# Epoca\")\n",
        "plt.ylabel(\"Magnitud de pérdida\")\n",
        "plt.plot(historial.history[\"loss\"]) #evolución de errores(Y) en cada vuelta(X)"
      ],
      "metadata": {
        "colab": {
          "base_uri": "https://localhost:8080/",
          "height": 296
        },
        "id": "GxCY6EcyzO2i",
        "outputId": "c8812610-8ee5-4fff-986e-8e3ae68e0e6c"
      },
      "execution_count": 10,
      "outputs": [
        {
          "output_type": "execute_result",
          "data": {
            "text/plain": [
              "[<matplotlib.lines.Line2D at 0x7f97f26acc40>]"
            ]
          },
          "metadata": {},
          "execution_count": 10
        },
        {
          "output_type": "display_data",
          "data": {
            "text/plain": [
              "<Figure size 432x288 with 1 Axes>"
            ],
            "image/png": "[encoded data removed]"
          },
          "metadata": {
            "needs_background": "light"
          }
        }
      ]
    },
    {
      "cell_type": "code",
      "source": [
        "print(\"Hagamos una predicción\") # vamos a ver que tal convierte 100C a F\n",
        "resultado = modelo.predict([100.0])\n",
        "print(\"El resultado es \" + str(resultado) + \" fahrenheit!\")"
      ],
      "metadata": {
        "colab": {
          "base_uri": "https://localhost:8080/"
        },
        "id": "xwv8N_3X0Ht8",
        "outputId": "c36c0ecc-b7e0-491a-db4a-62dfcaf4800b"
      },
      "execution_count": 11,
      "outputs": [
        {
          "output_type": "stream",
          "name": "stdout",
          "text": [
            "Hagamos una predicción\n",
            "1/1 [==============================] - 0s 88ms/step\n",
            "El resultado es [[211.33939]] fahrenheit!\n"
          ]
        }
      ]
    },
    {
      "cell_type": "code",
      "source": [
        "print(\"Variables internas del modelo\") #ver modelo por dentro (pesos)\n",
        "print(capa.get_weights())"
      ],
      "metadata": {
        "colab": {
          "base_uri": "https://localhost:8080/"
        },
        "id": "p13mUFa11ytA",
        "outputId": "5de8b8f6-d7aa-4786-ffdc-707ff13edeba"
      },
      "execution_count": 13,
      "outputs": [
        {
          "output_type": "stream",
          "name": "stdout",
          "text": [
            "Variables internas del modelo\n",
            "[array([[1.7954943]], dtype=float32), array([31.78994], dtype=float32)]\n"
          ]
        }
      ]
    },
    {
      "cell_type": "code",
      "source": [
        "        #peso conexión                #sesgo de salida"
      ],
      "metadata": {
        "id": "q9hV_TjF25A1"
      },
      "execution_count": null,
      "outputs": []
    }
  ]
}