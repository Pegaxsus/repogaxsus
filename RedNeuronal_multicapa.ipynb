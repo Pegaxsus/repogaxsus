{
  "nbformat": 4,
  "nbformat_minor": 0,
  "metadata": {
    "colab": {
      "provenance": [],
      "authorship_tag": "ABX9TyO/3QByU6FL6REwsZ3gYDRr",
      "include_colab_link": true
    },
    "kernelspec": {
      "name": "python3",
      "display_name": "Python 3"
    },
    "language_info": {
      "name": "python"
    }
  },
  "cells": [
    {
      "cell_type": "markdown",
      "metadata": {
        "id": "view-in-github",
        "colab_type": "text"
      },
      "source": [
        "<a href=\"https://colab.research.google.com/github/Pegaxsus/repogaxsus/blob/master/RedNeuronal_multicapa.ipynb\" target=\"_parent\"><img src=\"https://colab.research.google.com/assets/colab-badge.svg\" alt=\"Open In Colab\"/></a>"
      ]
    },
    {
      "cell_type": "code",
      "execution_count": null,
      "metadata": {
        "id": "01AL5ZassBZQ"
      },
      "outputs": [],
      "source": [
        "import tensorflow as tf\n",
        "import numpy as np "
      ]
    },
    {
      "cell_type": "code",
      "source": [
        "celsius = np.array([-40, -10, 0, 8, 15, 22, 38], dtype=float) #array de entrada\n",
        "fahrenheit = np.array([-40, 14, 32, 46, 58, 72, 100], dtype=float) #array de salida correcto"
      ],
      "metadata": {
        "id": "5bi4hzj3tVJQ"
      },
      "execution_count": null,
      "outputs": []
    },
    {
      "cell_type": "code",
      "source": [
        "#modo capa\n",
        "#capa = tf.keras.layers.Dense(units=1, input_shape=[1]) #cantidad de conexiones\n",
        "#modelo = tf.keras.Sequential([capa])\n",
        "\n",
        "#modo multicapa\n",
        "oculta1 = tf.keras.layers.Dense(units=3, input_shape=[1])\n",
        "oculta2 = tf.keras.layers.Dense(units=3)\n",
        "salida = tf.keras.layers.Dense(units=1)\n",
        "modelo = tf.keras.Sequential([oculta1, oculta2, salida])\n",
        "\n"
      ],
      "metadata": {
        "id": "z7JW5if6uMrg"
      },
      "execution_count": null,
      "outputs": []
    },
    {
      "cell_type": "code",
      "source": [
        "modelo.compile( #compilar modelo \n",
        "    optimizer=tf.keras.optimizers.Adam(0.1), #selecionamos optimizador y \"fineza\"\n",
        "    loss='mean_squared_error' # definimos qué es un error\n",
        ")"
      ],
      "metadata": {
        "id": "yA8T80vTwDlk"
      },
      "execution_count": null,
      "outputs": []
    },
    {
      "cell_type": "code",
      "source": [
        "print(\"Comienza entrenamiento...\"); #1000 vueltas de entreno\n",
        "historial = modelo.fit(celsius, fahrenheit, epochs=1000, verbose=False)\n",
        "print(\"Modelo entrenado.\")\n"
      ],
      "metadata": {
        "colab": {
          "base_uri": "https://localhost:8080/"
        },
        "id": "H4VM8xK_wDY-",
        "outputId": "d1764a34-a876-4556-c9bf-c8e6df9f6af4"
      },
      "execution_count": null,
      "outputs": [
        {
          "output_type": "stream",
          "name": "stdout",
          "text": [
            "Comienza entrenamiento...\n",
            "Modelo entrenado.\n"
          ]
        }
      ]
    },
    {
      "cell_type": "code",
      "source": [
        "import matplotlib.pyplot as plt \n",
        "plt.xlabel(\"# Epoca\")\n",
        "plt.ylabel(\"Magnitud de pérdida\")\n",
        "plt.plot(historial.history[\"loss\"]) #evolución de errores(Y) en cada vuelta(X)"
      ],
      "metadata": {
        "colab": {
          "base_uri": "https://localhost:8080/",
          "height": 296
        },
        "id": "GxCY6EcyzO2i",
        "outputId": "83b04053-cf9c-4d0e-a4c8-90436c831876"
      },
      "execution_count": null,
      "outputs": [
        {
          "output_type": "execute_result",
          "data": {
            "text/plain": [
              "[<matplotlib.lines.Line2D at 0x7f97f079e7c0>]"
            ]
          },
          "metadata": {},
          "execution_count": 17
        },
        {
          "output_type": "display_data",
          "data": {
            "text/plain": [
              "<Figure size 432x288 with 1 Axes>"
            ],
            "image/png": "[encoded data removed]"
          },
          "metadata": {
            "needs_background": "light"
          }
        }
      ]
    },
    {
      "cell_type": "code",
      "source": [
        "print(\"Hagamos una predicción\") # vamos a ver que tal convierte 100C a F\n",
        "resultado = modelo.predict([100.0])\n",
        "print(\"El resultado es \" + str(resultado) + \" fahrenheit!\")"
      ],
      "metadata": {
        "colab": {
          "base_uri": "https://localhost:8080/"
        },
        "id": "xwv8N_3X0Ht8",
        "outputId": "0b13ff5a-80b1-4f41-fbd8-1bc44b8794b2"
      },
      "execution_count": null,
      "outputs": [
        {
          "output_type": "stream",
          "name": "stdout",
          "text": [
            "Hagamos una predicción\n",
            "1/1 [==============================] - 0s 82ms/step\n",
            "El resultado es [[211.34402]] fahrenheit!\n"
          ]
        }
      ]
    },
    {
      "cell_type": "code",
      "source": [
        "#monocapa\n",
        "print(\"Variables internas del modelo\") #ver modelo por dentro (pesos)\n",
        "print(capa.get_weights())\n",
        "\n",
        "#multicapa\n",
        "print(\"Variables internas del modelo\") #ver modelo por dentro (pesos)\n",
        "print(oculta1.get_weights())\n",
        "print(oculta2.get_weights())\n",
        "print(salida.get_weights())\n"
      ],
      "metadata": {
        "colab": {
          "base_uri": "https://localhost:8080/"
        },
        "id": "p13mUFa11ytA",
        "outputId": "5a33073e-d3b3-44d6-f0a5-1d3711049f65"
      },
      "execution_count": null,
      "outputs": [
        {
          "output_type": "stream",
          "name": "stdout",
          "text": [
            "Variables internas del modelo\n",
            "[array([[1.7954943]], dtype=float32), array([31.78994], dtype=float32)]\n",
            "Variables internas del modelo\n",
            "[array([[-0.35209745,  0.15432288,  0.81435615]], dtype=float32), array([-4.719606 ,  1.0371464,  4.873865 ], dtype=float32)]\n",
            "[array([[-1.5373055 , -0.57724416, -0.0721956 ],\n",
            "       [ 0.272182  , -0.09926417, -0.66364896],\n",
            "       [ 0.7539276 , -0.69794095,  0.00840476]], dtype=float32), array([ 4.7176137, -4.594485 ,  3.7748396], dtype=float32)]\n",
            "[array([[ 1.344617  ],\n",
            "       [-0.62599915],\n",
            "       [ 0.75247544]], dtype=float32), array([4.4285665], dtype=float32)]\n"
          ]
        }
      ]
    },
    {
      "cell_type": "code",
      "source": [
        "        #peso conexión                #sesgo de salida"
      ],
      "metadata": {
        "id": "q9hV_TjF25A1"
      },
      "execution_count": null,
      "outputs": []
    }
  ]
}